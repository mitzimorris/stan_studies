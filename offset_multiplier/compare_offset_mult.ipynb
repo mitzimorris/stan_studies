{
 "cells": [
  {
   "cell_type": "markdown",
   "metadata": {},
   "source": [
    "\n",
    "# The Affine Transform Will Explode Your Mind\n",
    "\n",
    "The non-centered parameterization is recommended for hierarchical models\n",
    "where the groups have relatively few members.\n",
    "\n",
    "To see how this works with binomial data, i.e., outcomes from repeated binary trials,\n",
    "we build a hierarchical model with a *normal prior* on the *log odds of success*\n",
    "\n",
    "The data and models are taken from Bob Carpenter's most excellent case study:\n",
    "[Hierarchical Partial Pooling for Repeated Binary Trials](https://mc-stan.org/users/documentation/case-studies/pool-binary-trials.html)"
   ]
  },
  {
   "cell_type": "markdown",
   "metadata": {},
   "source": [
    "### Packages used in this notebook\n",
    "\n",
    "We use [CmdStanPy](https://mc-stan.org/cmdstanpy) to do the model fitting and plot the results using [plotnine](https://plotnine.readthedocs.io/en/stable/), a ggplot2-like Python package.\n",
    "Pandas and NumPy are also used for data munging."
   ]
  },
  {
   "cell_type": "code",
   "execution_count": null,
   "metadata": {},
   "outputs": [],
   "source": [
    "import os\n",
    "import pandas as pd\n",
    "import numpy as np\n",
    "\n",
    "import matplotlib.pyplot as plt\n",
    "from plotnine import *\n",
    "%matplotlib inline\n",
    "\n",
    "from cmdstanpy import CmdStanModel"
   ]
  },
  {
   "cell_type": "code",
   "execution_count": null,
   "metadata": {
    "tags": [
     "remove_input"
    ]
   },
   "outputs": [],
   "source": [
    "theme_set(\n",
    "  theme_grey() + \n",
    "  theme(text=element_text(size=10),\n",
    "        plot_title=element_text(size=14),\n",
    "        axis_title_x=element_text(size=12),\n",
    "        axis_title_y=element_text(size=12),\n",
    "        axis_text_x=element_text(size=8),\n",
    "        axis_text_y=element_text(size=8)\n",
    "       )\n",
    ")"
   ]
  },
  {
   "cell_type": "markdown",
   "metadata": {},
   "source": [
    "### Baseball Data:  Number of hits in 45 at-bats for 18 MLB players in 1971"
   ]
  },
  {
   "cell_type": "code",
   "execution_count": null,
   "metadata": {
    "comment": "#R_CODE#NA"
   },
   "outputs": [],
   "source": [
    "with open('efron-morris-75-data.tsv') as tsv_file:\n",
    "    df = pd.read_csv(\"efron-morris-75-data.tsv\", sep=\"\\t\")\n",
    "df.style.hide_index().format(precision=3)"
   ]
  },
  {
   "cell_type": "code",
   "execution_count": null,
   "metadata": {},
   "outputs": [],
   "source": [
    "baseball_data = {\"N\": df.shape[0],\n",
    "                 \"K\": df['At-Bats'],\n",
    "                 \"y\": df['Hits'],\n",
    "                 \"K_new\": df['RemainingAt-Bats'],\n",
    "                 \"y_new\": df['SeasonHits']-df['Hits']}\n",
    "\n",
    "M = 10000\n",
    "\n",
    "def bda_plot(df, x_lab, y_lab, title=''):\n",
    "  return (ggplot(df, aes('x', 'y')) +\n",
    "          geom_point(alpha=0.2) +\n",
    "          xlab(x_lab) +\n",
    "          ylab(y_lab) +\n",
    "          ggtitle(title) +\n",
    "          theme(figure_size=(8,6)))"
   ]
  },
  {
   "cell_type": "markdown",
   "metadata": {},
   "source": [
    "## The Model\n",
    "\n",
    "The model we are interested in is a hierarchical model\n",
    "with a *normal prior* on the *log odds of success*.\n",
    "The mathematical model specification is\n",
    "\n",
    "$$\n",
    "p(y_n \\, | \\, K_n, \\alpha_n) \n",
    "\\ = \\ \\mathsf{Binomial}(y_n \\, | \\, K_n, \\ \\mathrm{logit}^{-1}(\\alpha_n))\n",
    "$$\n",
    "\n",
    "with a simple normal hierarchical prior\n",
    "\n",
    "$$\n",
    "p(\\alpha_n \\, | \\, \\mu, \\sigma)\n",
    "= \\mathsf{Normal}(\\alpha_n \\, | \\, \\mu, \\sigma).\n",
    "$$\n",
    "\n",
    "a weakly informative hyperprior for $\\mu$\n",
    "\n",
    "$$\n",
    "p(\\mu) = \\mathsf{Normal}(\\mu \\, | \\, -1, 1),\n",
    "$$\n",
    "\n",
    "and a half normal prior on $\\sigma$\n",
    "\n",
    "$$\n",
    "p(\\sigma)\n",
    "\\ = \\ 2 \\, \\mathsf{Normal}(\\sigma \\, | \\, 0, 1)\n",
    "\\ \\propto \\ \\mathsf{Normal}(\\sigma \\, | \\, 0, 1).\n",
    "$$"
   ]
  },
  {
   "cell_type": "markdown",
   "metadata": {},
   "source": [
    "### Centered Parameterization\n",
    "\n",
    "The Stan program `hier-logit-centered.stan` is a straightforward encoding of\n",
    "a hierarchical model with a *normal prior* on the *log odds of success*,\n",
    "but this is not the optimal way to code this model in Stan, as we will soon demonstrate.\n",
    "\n",
    "```\n",
    "parameters {\n",
    "  real mu;                       // population mean of success log-odds\n",
    "  real<lower=0> sigma;           // population sd of success log-odds\n",
    "  vector[N] alpha;               // success log-odds\n",
    "}\n",
    "model {\n",
    "  mu ~ normal(-1, 1);               // hyperprior\n",
    "  sigma ~ normal(0, 1);             // hyperprior\n",
    "  alpha ~ normal(mu, sigma);        // prior (hierarchical)\n",
    "  y ~ binomial_logit(K, alpha);     // likelihood\n",
    "}\n",
    "```"
   ]
  },
  {
   "cell_type": "code",
   "execution_count": null,
   "metadata": {},
   "outputs": [],
   "source": [
    "hier_logit_centered_model = CmdStanModel(stan_file='hier-logit-centered.stan')\n",
    "print(hier_logit_centered_model.code())"
   ]
  },
  {
   "cell_type": "code",
   "execution_count": null,
   "metadata": {},
   "outputs": [],
   "source": [
    "fit_centered = hier_logit_centered_model.sample(\n",
    "    data=baseball_data,\n",
    "    iter_sampling=int(M/4),\n",
    "    seed=54321)"
   ]
  },
  {
   "cell_type": "markdown",
   "metadata": {},
   "source": [
    "The variable `theta` is the per-player chance of success, i.e., `theta * 100` is their batting average.  These range from 240 - 270, which is in line with what we expect from major league baseball players."
   ]
  },
  {
   "cell_type": "code",
   "execution_count": null,
   "metadata": {},
   "outputs": [],
   "source": [
    "fit_centered.summary(sig_figs=3).round(decimals=3).filter(regex=r'mu|sigma|theta', axis=\"index\")"
   ]
  },
  {
   "cell_type": "markdown",
   "metadata": {},
   "source": [
    "The reported Eff values for `sigma` are low and the R_hat value is above 1.   CmdStan's `diagnose` method indicates that this model had problems fitting the data."
   ]
  },
  {
   "cell_type": "code",
   "execution_count": null,
   "metadata": {},
   "outputs": [],
   "source": [
    "print(fit_centered.diagnose())"
   ]
  },
  {
   "cell_type": "markdown",
   "metadata": {},
   "source": [
    "#### Meet the Funnel\n",
    "\n",
    "With a small amount of data, the sampler cannot properly determine how much of the observed variance in the data is individual-level variance or group-level variance.  It displays low ESS and poor R-hat for `sigma`.\n",
    "When we plot the individual level estimates for player one against `log(sigma)`, the range on the y axis is (-4, 0) and there is a clear funnel shape with many draws in the neck of the funnel."
   ]
  },
  {
   "cell_type": "code",
   "execution_count": null,
   "metadata": {},
   "outputs": [],
   "source": [
    "df_x_y = pd.DataFrame(\n",
    "    data={'x': fit_centered.stan_variable('alpha')[:,0],\n",
    "          'y': np.log(fit_centered.stan_variable('sigma'))\n",
    "         }\n",
    ")\n",
    "\n",
    "bda_plot(df_x_y,\n",
    "         x_lab = \"alpha[1]: player 1 log odds of success\",\n",
    "         y_lab = \"log(sigma): log population scale\",\n",
    "         title = \"population vs player params, centered parameterization\")"
   ]
  },
  {
   "cell_type": "markdown",
   "metadata": {},
   "source": [
    "## The Non-Centered Parameterization \n",
    "\n",
    "The centered parameterization is challenging for MCMC methods to sample\n",
    "when there are small counts per group (here, the players are the groups\n",
    "and each has only 45 at bats observed).\n",
    "Moving to a non-centered parameterization may mitigate the problem.\n",
    "This changes the parameterization over which sampling is done,\n",
    "taking now a standard unit normal prior for a new variable,\n",
    "\n",
    "$$\n",
    "\\alpha^{\\mathrm{std}}_n = \\frac{\\alpha_n - \\mu}{\\sigma}.\n",
    "$$\n",
    "\n",
    "Then we can parameterize in terms of $\\alpha^{\\mathrm{std}}$, which\n",
    "has a standard-normal distribution\n",
    "\n",
    "$$\n",
    "p(\\alpha^{\\mathrm{std}}_n) = \\mathsf{Normal}(\\alpha^{\\mathrm{std}}_n \\, | \\, 0, 1).\n",
    "$$\n",
    "\n",
    "We can then define our original $\\alpha$ as a derived quantity\n",
    "\n",
    "$$\n",
    "\\alpha_n = \\mu + \\sigma \\, \\alpha^{\\mathrm{std}}_n.\n",
    "$$\n",
    "\n",
    "This decouples the sampling distribution\n",
    "for $\\alpha^{\\mathrm{std}}$ from $\\mu$ and $\\sigma$, greatly reducing\n",
    "their correlation in the posterior.  \n",
    "\n",
    "###  Non-centered parameterization using a standard normal distribution\n",
    "\n",
    "Prior to Stan 2.19, a Stan implementation directly encoded the above reparameterization,\n",
    "introducing a new variable `alpha_std` which has a standard normal distribution,\n",
    "thus decoupling the sampling distribution of `alpha_std` from `mu` and `sigma`.\n",
    "```\n",
    "parameters {\n",
    "  real mu; // population mean of success log-odds\n",
    "  real<lower=0> sigma; // population sd of success log-odds\n",
    "  vector[N] alpha_std; // success log-odds (standardized)\n",
    "}\n",
    "model {\n",
    "  mu ~ normal(-1, 1); // hyperprior\n",
    "  sigma ~ normal(0, 1); // hyperprior\n",
    "  alpha_std ~ normal(0, 1); // prior (hierarchical)\n",
    "  y ~ binomial_logit(K, mu + sigma * alpha_std); // likelihood\n",
    "}\n",
    "```\n",
    "\n",
    "The Stan program \"hier-logit-nc-std-norm.stan\" contains this model."
   ]
  },
  {
   "cell_type": "markdown",
   "metadata": {},
   "source": [
    "###  Non-centered parameterization using an affine transform\n",
    "\n",
    "\n",
    "Since Stan version 2.19, the Stan language's\n",
    "[affine transform](https://mc-stan.org/docs/reference-manual/univariate-data-types-and-variable-declarations.html) construct provides a more efficient way to do this.\n",
    "For a real variable, the affine transform $x\\mapsto \\mu + \\sigma * x$ with offset $\\mu$ and (positive) multiplier $\\sigma$\n",
    "is specified using a syntax like that used for upper/lower bounds, with keywords <code>offset</code>, <code>multiplier</code>.\n",
    "Specifying the affine transform in the parameter declaration for \n",
    "$\\alpha^{\\mathrm{std}}$ eliminates the need for intermediate variables\n",
    "and makes it easier to see the hierarchical structure of the model.\n",
    "\n",
    "When the parameters to the prior for $\\sigma$ are constants, the\n",
    "normalization for the half-prior (compared to the full prior) is\n",
    "constant and therefore does not need to be included in the notation.\n",
    "This only works if the parameters to the density are data or constants;\n",
    "if they are defined as parameters or as quantities depending on parameters,\n",
    "then explicit truncation is required.\n",
    "\n",
    "The Stan program `hier-logit-nc-affine-xform.stan` uses the affine-transform syntax to\n",
    "specify the non-centered version of the hierarchical model\n",
    "with a normal prior on the log odds of success.\n",
    "\n",
    "\n",
    "```\n",
    "parameters {\n",
    "  real mu; // population mean of success log-odds\n",
    "  real<lower=0> sigma; // population sd of success log-odds\n",
    "  vector<offset=mu, multiplier=sigma>[N] alpha; // success log-odds\n",
    "}\n",
    "model {\n",
    "  mu ~ normal(-1, 1); // hyperprior\n",
    "  sigma ~ normal(0, 1); // hyperprior\n",
    "  alpha ~ normal(mu, sigma); // prior (hierarchical)\n",
    "  y ~ binomial_logit(K, alpha); // likelihood\n",
    "}\n",
    "```\n",
    "\n",
    "\n",
    "For the purposes of comparison to the other three models,\n",
    "the chance of success $\\theta$ is computed as a generated quantity.\n",
    "\n",
    "```\n",
    "generated quantities {\n",
    "  vector[N] theta = inv_logit(alpha);\n",
    "  vector[N] alpha_std = (alpha - mu) / sigma;\n",
    "}\n",
    "```"
   ]
  },
  {
   "cell_type": "markdown",
   "metadata": {},
   "source": [
    "### Fitting the standard normal reparameterization\n",
    "\n",
    "The model `hier-logit-nc-std-norm.stan` fits the model using parameter `alpha_std`.  (*Full disclosure: depending on the random seed, it may report 1 or 2 divergences for a sample of 2500 draws; we've chosen a random seed that avoids this problem and have used it throughout this note.*)"
   ]
  },
  {
   "cell_type": "code",
   "execution_count": null,
   "metadata": {},
   "outputs": [],
   "source": [
    "nc_std_norm_model = CmdStanModel(stan_file='hier-logit-nc-std-norm.stan')\n",
    "print(nc_std_norm_model.code())"
   ]
  },
  {
   "cell_type": "code",
   "execution_count": null,
   "metadata": {
    "scrolled": true
   },
   "outputs": [],
   "source": [
    "fit_nc_std_norm = nc_std_norm_model.sample(\n",
    "    data=baseball_data,\n",
    "    iter_sampling=int(M/4),\n",
    "    seed=54321)"
   ]
  },
  {
   "cell_type": "markdown",
   "metadata": {},
   "source": [
    "Again, we check for problems by running CmdStan's `diagnose` method."
   ]
  },
  {
   "cell_type": "code",
   "execution_count": null,
   "metadata": {
    "scrolled": true
   },
   "outputs": [],
   "source": [
    "print(fit_nc_std_norm.diagnose())"
   ]
  },
  {
   "cell_type": "markdown",
   "metadata": {},
   "source": [
    "The estimates for `mu`, `sigma`, `theta` and `alpha` are roughly the same as for the centered parameterization.  The non-centered parameterization results in a much larger effective sample size."
   ]
  },
  {
   "cell_type": "code",
   "execution_count": null,
   "metadata": {},
   "outputs": [],
   "source": [
    "print(\"Centered parameterization\")\n",
    "print(fit_centered.summary(sig_figs=3).round(decimals=3).filter(\n",
    "    [\"mu\", \"sigma\",\n",
    "     \"theta[1]\", \"theta[5]\", \"theta[10]\", \"theta[18]\",\n",
    "     \"alpha[1]\", \"alpha[5]\", \"alpha[10]\", \"alpha[18]\"],\n",
    "    axis=\"index\"))\n",
    "\n",
    "print(\"\\nNon-centered parameterization, std_normal reparameterization\")\n",
    "print(fit_nc_std_norm.summary(sig_figs=3).round(decimals=3).filter(\n",
    "    [\"mu\", \"sigma\",\n",
    "     \"theta[1]\", \"theta[5]\", \"theta[10]\", \"theta[18]\",\n",
    "     \"alpha[1]\", \"alpha[5]\", \"alpha[10]\", \"alpha[18]\"],\n",
    "    axis=\"index\"))"
   ]
  },
  {
   "cell_type": "markdown",
   "metadata": {},
   "source": [
    "To consider how the reparameterization is working, we plot the\n",
    "posterior for the mean and log scale of the hyperprior.\n",
    "The prior location ($\\mu$) and scale ($\\sigma$) are coupled in the posterior."
   ]
  },
  {
   "cell_type": "code",
   "execution_count": null,
   "metadata": {},
   "outputs": [],
   "source": [
    "df_x_y = pd.DataFrame(data={'x': fit_nc_std_norm.stan_variable('mu'),\n",
    "                            'y': np.log(fit_nc_std_norm.stan_variable('sigma'))})\n",
    "\n",
    "bda_plot(df_x_y,\n",
    "         x_lab = \"mu\",\n",
    "         y_lab = \"log(sigma)\",\n",
    "         title = \"Hierarchical params, standard normal reparameterization\")"
   ]
  },
  {
   "cell_type": "markdown",
   "metadata": {},
   "source": [
    "Now when we plot the sample values for log scale and the first transformed parameter, `alpha_std[1]`,\n",
    "the range on the Y axis is (-12, 0) and the narrow funnel neck is gone.   But the values on the X axis range from -3 to 4, and are not directly interpretable as the log odds of success."
   ]
  },
  {
   "cell_type": "code",
   "execution_count": null,
   "metadata": {},
   "outputs": [],
   "source": [
    "df_x_y_71 = pd.DataFrame(\n",
    "    data={'x': fit_nc_std_norm.stan_variable('alpha_std')[: , 0],\n",
    "          'y': np.log(fit_nc_std_norm.stan_variable('sigma'))}\n",
    ")\n",
    "\n",
    "bda_plot(df_x_y_71,\n",
    "         x_lab = \"alpha_std[1]: player 1 log odds of success (transformed)\",\n",
    "         y_lab = \"log(sigma): log population scale\",\n",
    "         title = \"population vs player params, non-centered parameterization\")"
   ]
  },
  {
   "cell_type": "markdown",
   "metadata": {},
   "source": [
    "We can also plot the value for the generated quantities variable `alpha[1]`.\n",
    "This is readily interpretable as the log odds of success.\n",
    "The y-axis ranges from (-12, 0).\n",
    "There isn't a pileup of draws at the bottom, indicating that the sampler has been able\n",
    "to explore the posterior.\n",
    "But it still has the long-tail problem as `sigma` approaches zero."
   ]
  },
  {
   "cell_type": "code",
   "execution_count": null,
   "metadata": {},
   "outputs": [],
   "source": [
    "df_x_y_71 = pd.DataFrame(\n",
    "    data={'x': fit_nc_std_norm.stan_variable('alpha')[: , 0],\n",
    "          'y': np.log(fit_nc_std_norm.stan_variable('sigma'))}\n",
    ")\n",
    "\n",
    "bda_plot(df_x_y_71,\n",
    "         x_lab = \"alpha[1]: player 1 log odds of success\",\n",
    "         y_lab = \"log(sigma): log population scale\",\n",
    "         title = \"population vs player, back-transformed alpha\")"
   ]
  },
  {
   "cell_type": "markdown",
   "metadata": {},
   "source": [
    "### Fitting the affine transform parameterization\n",
    "\n",
    "The model `hier-logit-nc-affine-xform.stan` looks just like the centered parameterization,\n",
    "with the exception that parameter `alpha` is defined with `<offset = mu, multiplier = sigma>`."
   ]
  },
  {
   "cell_type": "code",
   "execution_count": null,
   "metadata": {},
   "outputs": [],
   "source": [
    "nc_affine_xform_model = CmdStanModel(stan_file='hier-logit-nc-affine-xform.stan')\n",
    "print(nc_affine_xform_model.code())"
   ]
  },
  {
   "cell_type": "code",
   "execution_count": null,
   "metadata": {},
   "outputs": [],
   "source": [
    "fit_nc_affine = nc_affine_xform_model.sample(\n",
    "    data=baseball_data,\n",
    "    iter_sampling=int(M/4),\n",
    "    seed=54321)"
   ]
  },
  {
   "cell_type": "markdown",
   "metadata": {},
   "source": [
    "As usual, we check for problems by running CmdStan's diagnose method."
   ]
  },
  {
   "cell_type": "code",
   "execution_count": null,
   "metadata": {},
   "outputs": [],
   "source": [
    "print(fit_nc_affine.diagnose())"
   ]
  },
  {
   "cell_type": "code",
   "execution_count": null,
   "metadata": {},
   "outputs": [],
   "source": [
    "print(\"Centered parameterization\")\n",
    "print(fit_centered.summary(sig_figs=3).round(decimals=3).filter(\n",
    "    [\"mu\", \"sigma\",\n",
    "     \"theta[1]\", \"theta[5]\", \"theta[10]\", \"theta[18]\",\n",
    "     \"alpha[1]\", \"alpha[5]\", \"alpha[10]\", \"alpha[18]\"],\n",
    "    axis=\"index\"))\n",
    "\n",
    "print(\"\\nNon-centered parameterization, std_normal reparameterization\")\n",
    "print(fit_nc_std_norm.summary(sig_figs=3).round(decimals=3).filter(\n",
    "    [\"mu\", \"sigma\",\n",
    "     \"theta[1]\", \"theta[5]\", \"theta[10]\", \"theta[18]\",\n",
    "     \"alpha[1]\", \"alpha[5]\", \"alpha[10]\", \"alpha[18]\"],\n",
    "    axis=\"index\"))\n",
    "\n",
    "print(\"\\nNon-centered parameterization, affine transform reparameterization\")\n",
    "print(fit_nc_affine.summary(sig_figs=3).round(decimals=3).filter(\n",
    "    [\"mu\", \"sigma\",\n",
    "     \"theta[1]\", \"theta[5]\", \"theta[10]\", \"theta[18]\",\n",
    "     \"alpha[1]\", \"alpha[5]\", \"alpha[10]\", \"alpha[18]\"],\n",
    "    axis=\"index\"))\n"
   ]
  },
  {
   "cell_type": "markdown",
   "metadata": {},
   "source": [
    "We plot the sample values for log scale and the first player ability parameter, `alpha[1]`;\n",
    "this looks pretty much the same as the above plot."
   ]
  },
  {
   "cell_type": "code",
   "execution_count": null,
   "metadata": {},
   "outputs": [],
   "source": [
    "df_x_y_71 = pd.DataFrame(\n",
    "    data={'x': fit_nc_affine.stan_variable('alpha')[: , 0],\n",
    "          'y': np.log(fit_nc_affine.stan_variable('sigma'))}\n",
    ")\n",
    "\n",
    "bda_plot(df_x_y_71,\n",
    "         x_lab = \"alpha[1]: player 1 log odds of success\",\n",
    "         y_lab = \"log(sigma): log population scale\",\n",
    "         title = \"population vs player params, affine transform\")"
   ]
  },
  {
   "cell_type": "markdown",
   "metadata": {},
   "source": [
    "Both `hier-logit-nc-std-norm.stan` and `hier-logit-nc-affine-xform.stan` produce essentially\n",
    "the same results; this is because both models are essentially the same model:\n",
    "they encode the non-centered parameterization.\n",
    "\n",
    "Using the affine transform syntax allows us to write models which directly express the hierarchical structure of the model and which are therefore readily interpretable, unlike the standard normal parameter values.\n",
    "The only difference is that for the standard normal parameterization\n",
    "the user must apply the affine transform throughout the program to recover\n",
    "an interpretable parameter estimate, whereas the use of the offset-multiplier construct\n",
    "does this automatically.\n",
    "\n",
    "In program `hier-logit-nc-std-norm.stan`\n",
    "variable `alpha_std` is a parameter with prior `std_normal()`.\n",
    "The user specifies the affine transform `mu + sigma * alpha_std`\n",
    "everywhere.\n",
    "\n",
    "In the generated quantities block we recover `theta`,\n",
    "our estimate of a player's chance of success,\n",
    "and `alpha`, the log-odds of success.\n",
    "```\n",
    "generated quantities {\n",
    "  vector[N] theta = inv_logit(mu + sigma * alpha_std);\n",
    "  vector[N] alpha = mu + sigma * alpha_std;  // recover alpha\n",
    "}\n",
    "```\n",
    "\n",
    "In program `hier-logit-nc-affine-xform.stan`\n",
    "variable `alpha` is a parameter with hierarchical prior `normal(mu, sigma)`.\n",
    "In the generated quantities block we recover `theta`,\n",
    "our estimate of a player's chance of success.\n",
    "Were there a need for it, we would be able to generate variable `alpha_std`\n",
    "as well.\n",
    "\n",
    "```\n",
    "generated quantities {\n",
    "  vector[N] theta = inv_logit(alpha);\n",
    "  vector[N] alpha_std = (alpha - mu)/sigma;\n",
    "}\n",
    "```\n",
    "\n",
    "To verify that this is correct, we plot `alpha_std[1]` against `log(sigma)`."
   ]
  },
  {
   "cell_type": "code",
   "execution_count": null,
   "metadata": {},
   "outputs": [],
   "source": [
    "df_x_y_71 = pd.DataFrame(\n",
    "    data={'x': fit_nc_affine.stan_variable('alpha_std')[: , 0],\n",
    "          'y': np.log(fit_nc_affine.stan_variable('sigma'))}\n",
    ")\n",
    "\n",
    "bda_plot(df_x_y_71,\n",
    "         x_lab = \"alpha_std[1]: player 1 log odds of success (transformed)\",\n",
    "         y_lab = \"log(sigma): log population scale\",\n",
    "         title = \"population vs player params, non-centered parameterization\")"
   ]
  }
 ],
 "metadata": {
  "jupytext": {
   "cell_metadata_filter": "out.width,tags,comment,-all",
   "notebook_metadata_filter": "-all"
  },
  "kernelspec": {
   "display_name": "Python 3",
   "language": "python",
   "name": "python3"
  },
  "language_info": {
   "codemirror_mode": {
    "name": "ipython",
    "version": 3
   },
   "file_extension": ".py",
   "mimetype": "text/x-python",
   "name": "python",
   "nbconvert_exporter": "python",
   "pygments_lexer": "ipython3",
   "version": "3.8.5"
  }
 },
 "nbformat": 4,
 "nbformat_minor": 4
}
